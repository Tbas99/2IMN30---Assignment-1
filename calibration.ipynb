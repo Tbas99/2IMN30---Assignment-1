{
 "cells": [
  {
   "cell_type": "markdown",
   "id": "4a9d5c37",
   "metadata": {},
   "source": [
    "# Calibration\n",
    "\n",
    "Modern integrated circuits, or chips, are manufactured using a complex process where the chips are essentially printed onto a silicon wafer (see this **[video](https://www.youtube.com/watch?v=g8Qav3vIv9s)** for an overview of the process). Each wafer contains many chips (e.g. a wafer with 300mm diameter fits several hundred laptop grade microprocessors). The chips on a finished wafer are tested to identify which are good and which are faulty. The yield of a wafer is determined by the fraction of good chips. To maximize the yield, semiconductor manufacturers are interested in identifying and correcting the causes of the faulty chips (e.g. wrong settings in one of processing steps). Some causes can be identified by visual inspection of patterns in a wafer maps, showing which chips are good and which are faulty.\n",
    "\n",
    "![wafer.png](attachment:wafer.png)\n",
    "\n",
    "In this assignment you will work with wafer map data from a semiconductor manufacturing process. Your task will be to develop a calibrated classifier for identifying patterns of faulty chips on a finished wafer. Identifying such patterns can help with optimizing the manufacturing process parameters for the following wafers."
   ]
  },
  {
   "cell_type": "markdown",
   "id": "52ddc39b",
   "metadata": {},
   "source": [
    "#### Deliverable\n",
    "\n",
    "Throughout this notebook you will find cells starting with `#TODO` and `# // BEGIN_TODO`.\n",
    "\n",
    "- Fill in all these TODO cells. The `#TODO` cells are meant to guide you (you are strongly encouraged to fill these in!), while the `#BEGIN_TODO` _answer cells_ will be graded.\n",
    "- Answer cells start and end with tags, `# // BEGIN_TODO [Q0]` and `# // END_TODO [Q0]`, for example. Do not edit these tags in any way, or else your answers may not be processed by the grading system.\n",
    "- Be careful when importing additional libraries. The code for of your answers will be evaluated automatically and we cannot guarantee that any additional libraries will be available in that environment. Please check the Momotor output on Canvas after submitting the assignment, you should be able to see if all your code executed without errors. If in doubt, please ask your instructor.\n",
    "- You can add arbitrary many code and text cells between the `# // BEGIN_TODO` and `# // END_TODO` tags to make your code nicely readable.\n",
    "\n",
    "You are encouraged to play with the data and extend this notebook in order to obtain your answers. You may insert cells at any point in the notebook, but remember:\n",
    "<br/><br/>\n",
    "<div style=\"padding: 15px; border: 1px solid transparent; border-color: transparent; margin-bottom: 20px; border-radius: 4px; color: #a94442; background-color: #f2dede; border-color: #ebccd1;\n",
    "\">\n",
    "Only the code in your answer cells (i.e. between `# // BEGIN_TODO` and `# // END_TODO`) will be extracted and evaluated.\n",
    "</div>\n",
    "\n",
    "At the end, deliver the filled in **and executed** `.ipynb` file by submitting it to the corresponding assignment on Canvas. You may submit as many times as you like before the deadline. The last submission counts.\n",
    "\n",
    "> **IMPORTANT:** Before delivering your notebook, make sure that the cells in your notebook can be executed in sequence without errors, by executing \"Restart & Run All\" from the \"Kernel\" menu.\n",
    "\n",
    "Let's get started by filling in your details in the following answer cell. Assign your group number, your names and student ids to variables `group_number`, `name_student1`, `id_student1`, `name_student2`, `id_student2`, e.g.:\n",
    "\n",
    "```\n",
    "# // BEGIN_TODO [AUTHOR]\n",
    "group_number = \"7\"\n",
    "name_student1 = \"John Smith\"\n",
    "id_student1 = \"1234567\"\n",
    "name_student2 = \"Jane Miller\"\n",
    "id_student2 = \"7654321\"\n",
    "# // END_TODO [AUTHOR]\n",
    "```"
   ]
  },
  {
   "cell_type": "code",
   "execution_count": 1,
   "id": "4a50d0dc",
   "metadata": {},
   "outputs": [],
   "source": [
    "#// BEGIN_TODO [AUTHOR]\n",
    "group_number = \"2\"\n",
    "name_student1 = \"Tobias Sagis\"\n",
    "id_student1 = \"1333151\"\n",
    "name_student2 = \"Ivan Horn\"\n",
    "id_student2 = \"0807338\"\n",
    "#// END_TODO [AUTHOR]"
   ]
  },
  {
   "cell_type": "markdown",
   "id": "41f7d089",
   "metadata": {},
   "source": [
    "## Import libraries\n",
    "\n",
    "Later, the code in your answer cells will be evaluated in an environment with several typical data science libraries installed, including pandas, numpy, matplotlib, sklearn. You are free to use them. If you would like to use other libraries, please contact the instructor to see if it can be accommodated. Please import any additional libraries inside your answer cells (otherwise your code may crash during evaluation)."
   ]
  },
  {
   "cell_type": "code",
   "execution_count": 2,
   "id": "1e8c38c8",
   "metadata": {},
   "outputs": [],
   "source": [
    "\n",
    "import pickle\n",
    "\n",
    "import matplotlib.pyplot as plt\n",
    "import numpy as np\n",
    "from sklearn import calibration"
   ]
  },
  {
   "cell_type": "markdown",
   "id": "b27a15a6",
   "metadata": {},
   "source": [
    "## Load the data\n",
    "\n",
    "The data resides in the `./data/wafer_calibration.pkl` pickle file. It is based on the WM-811K dataset containing annotated wafer maps collected from real-world fabrication (see `./data/readme.txt`)."
   ]
  },
  {
   "cell_type": "code",
   "execution_count": 3,
   "id": "6e66fd9c",
   "metadata": {},
   "outputs": [],
   "source": [
    "with open('./data/wafer.pkl', 'rb') as f:\n",
    "    X_train, X_test, y_train, y_test = pickle.load(f)"
   ]
  },
  {
   "cell_type": "markdown",
   "id": "3198a134",
   "metadata": {},
   "source": [
    "`X` contains wafer maps and `y` contains the labels. The maps are 26x26 pixels, a pixel of value 0 represents the background, a pixel of value 1 indicates a good chip, and a pixel of value 2 indicates a bad chip. An example of a wafer map is shown below."
   ]
  },
  {
   "cell_type": "code",
   "execution_count": 4,
   "id": "eac2e727",
   "metadata": {},
   "outputs": [
    {
     "data": {
      "image/png": "[encoded data removed]",
      "text/plain": [
       "<Figure size 432x288 with 1 Axes>"
      ]
     },
     "metadata": {
      "needs_background": "light"
     },
     "output_type": "display_data"
    }
   ],
   "source": [
    "plt.imshow(X_train[0]);"
   ]
  },
  {
   "cell_type": "markdown",
   "id": "2efde06a",
   "metadata": {},
   "source": [
    "The wafer maps were labeled by human experts according to bad chip patterns, where each label is an integer:\n",
    "\n",
    "- 0: No pattern\n",
    "- 1: Center\n",
    "- 2: Donut\n",
    "- 3: Edge-local\n",
    "- 4: Edge-ring\n",
    "- 5: Local\n",
    "- 6: Near-full\n",
    "- 7: Random\n",
    "- 8: Scratch\n",
    "\n",
    "An example of the wafer map for each pattern is shown below. Note that not all patterns may be present in this particular data set."
   ]
  },
  {
   "cell_type": "code",
   "execution_count": 5,
   "id": "7ee23b7a",
   "metadata": {},
   "outputs": [
    {
     "data": {
      "image/png": "[encoded data removed]",
      "text/plain": [
       "<Figure size 864x360 with 6 Axes>"
      ]
     },
     "metadata": {},
     "output_type": "display_data"
    }
   ],
   "source": [
    "unique_classes, class_indexes = np.unique(y_train,return_index=True)\n",
    "class_names = [\"No pattern\", \"Center\", \"Donut\", \"Edge-local\", \"Edge-ring\", \"Local\", \"Near-full\", \"Random\", \"Scratch\"]\n",
    "fig, axes = plt.subplots(1,len(unique_classes), figsize = (12,5))\n",
    "for num_index, index in enumerate(class_indexes):\n",
    "    axes[num_index].imshow(X_train[index])\n",
    "    axes[num_index].set_title(class_names[unique_classes[num_index]])\n",
    "    axes[num_index].set_xticks([])\n",
    "    axes[num_index].set_yticks([])"
   ]
  },
  {
   "cell_type": "markdown",
   "id": "68a4e146",
   "metadata": {},
   "source": [
    "## Train a classifier\n",
    "\n",
    "In this part you will implement a classifier, which will be used later for evaluating your calibration method.\n",
    "\n",
    "First, start by exploring the data. Remember, you can add as many code and markdown cells as you like."
   ]
  },
  {
   "cell_type": "code",
   "execution_count": 6,
   "id": "70b51d02",
   "metadata": {},
   "outputs": [
    {
     "name": "stdout",
     "output_type": "stream",
     "text": [
      "(4310, 26, 26)\n",
      "(4310,)\n"
     ]
    }
   ],
   "source": [
    "# TODO: Explore the data\n",
    "print(X_train.shape)\n",
    "print(y_train.shape)"
   ]
  },
  {
   "cell_type": "markdown",
   "id": "9291368c",
   "metadata": {},
   "source": [
    "In the first part of this assignment the aim is to identify whether the wafer map contains any known patterns or not. We therefore treat it as a binary classification problem and replace labels other than 0 to 1."
   ]
  },
  {
   "cell_type": "code",
   "execution_count": 7,
   "id": "04ae812d",
   "metadata": {},
   "outputs": [],
   "source": [
    "y_binary_train = np.copy(y_train)\n",
    "y_binary_train[y_binary_train != 0] = 1\n",
    "\n",
    "y_binary_test = np.copy(y_test)\n",
    "y_binary_test[y_binary_test != 0] = 1"
   ]
  },
  {
   "cell_type": "markdown",
   "id": "5247d1c7",
   "metadata": {},
   "source": [
    "#### Step 1\n",
    "\n",
    "Choose a metric for evaluating the classifier's generalization performance and assign your choice to a string variable `classifier_metric_choice`. Motivate the choice (including the hyper-parameters, if any) in a string variable `classifier_metric_motivation` (max 800 characters). Describe how you decide based on this metric if a classifier is sufficiently calibrated in a string variable `classifier_metric_decision` (max 200 characters)."
   ]
  },
  {
   "cell_type": "code",
   "execution_count": 8,
   "id": "de84a9fc",
   "metadata": {},
   "outputs": [],
   "source": [
    "#// BEGIN_TODO [STEP_1] Choose a classifier metric (5 points)\n",
    "import pickle\n",
    "\n",
    "import matplotlib.pyplot as plt\n",
    "import numpy as np\n",
    "from sklearn import calibration\n",
    "classifier_metric_choice = \"Recall\"\n",
    "\n",
    "classifier_metric_motivation = \"\"\"\n",
    "    We initially wanted to use the Precision metric, due to the fact that the dataset imbalance is already leaning towards\n",
    "    negative classifications. However, under the assumption that false negative predictions are very costly for the company,\n",
    "    we will use the Recall metric to minimize the amount of false negative predictions. This assumption considers the fact that\n",
    "    if a wafer is flagged as 'non-pattern', but still turns out to have a pattern, then it is essentially delivered in a\n",
    "    defect state. False positive predictions are less of an issue since we assume that the cost of checking if such a prediction\n",
    "    is correct, outweights the risk(and cost) of sending a defect wafer to the customer.\n",
    "    \"\"\"\n",
    "\n",
    "classifier_metric_decision = \"\"\"If Recall is high the model has a low rate of selecting false negatives.\n",
    "Higher Recall score tells us that the model behaves correctly, by avoiding marking defect wafers\n",
    "as non-defect.\"\"\""
   ]
  },
  {
   "cell_type": "code",
   "execution_count": 9,
   "id": "72556135",
   "metadata": {},
   "outputs": [],
   "source": [
    "#// END_TODO [STEP_1]"
   ]
  },
  {
   "cell_type": "markdown",
   "id": "728e9a37",
   "metadata": {},
   "source": [
    "#### Step 2\n",
    "\n",
    "Train a binary classifier on the training set `X_train` and `y_train`. You are free to chose any model and data preprocessing method, as long as:\n",
    "\n",
    "- your classifier outputs the predicted class (0 or 1) and the confidence estimate of the positive class,\n",
    "- your submission executes within 10 minutes on Momotor,\n",
    "- you use the libraries available on Momotor (if you would like to use other libraries, please contact the instructor to see if it can be accommodated).\n",
    "\n",
    "Evaluate your trained model on the test set `X_test` and `y_test`. What do you observe? How do you know that your model is well trained? Assign your answer to a string variable `observation_classifier` (max 600 characters).\n",
    "\n",
    "Apply the classifier to the `X_test` data and store the predicted classes and confidence estimate in the variables `uncalibrated_y` and `uncalibrated_p`, respectively:\n",
    "\n",
    "- `uncalibrated_y` should be a `np.ndarray` of shape $[N,]$ and `dtype` of `np.int32`, where $N$ is the number of samples and each value is the predicted class,\n",
    "- `uncalibrated_p` should be a `np.ndarray` of shape $[N,]$ and `dtype` of `np.float32`, where each value is the classifier's confidence in the positive class."
   ]
  },
  {
   "cell_type": "code",
   "execution_count": 10,
   "id": "26c1dba9",
   "metadata": {},
   "outputs": [],
   "source": [
    "#// BEGIN_TODO [STEP_2] Train a binary classifier (10 points)\n",
    "from sklearn.metrics import *\n",
    "from sklearn.preprocessing import *\n",
    "from sklearn import svm"
   ]
  },
  {
   "cell_type": "code",
   "execution_count": 11,
   "id": "6b1b3fbc",
   "metadata": {},
   "outputs": [],
   "source": [
    "# Preprocessing - Convert 26x26 pattern to a 1D feature vector of size 676\n",
    "feature_vectors_train = X_train.reshape(len(X_train), -1) # (4310, 676)\n",
    "feature_vectors_test = X_test.reshape(len(X_test), -1) # (1990, 676)\n",
    "\n",
    "# Preprocessing - Standardization for our machine learning estimator\n",
    "standard_scaler = StandardScaler()\n",
    "x_binary_train = standard_scaler.fit_transform(feature_vectors_train)\n",
    "x_binary_test = standard_scaler.fit_transform(feature_vectors_test)"
   ]
  },
  {
   "cell_type": "code",
   "execution_count": 12,
   "id": "1a1fb66b",
   "metadata": {},
   "outputs": [],
   "source": [
    "# Training - Fitting data to a SVC classifier\n",
    "classifier = svm.SVC(gamma='auto', class_weight='balanced')\n",
    "classifier.fit(x_binary_train, y_binary_train)\n",
    "\n",
    "def create_fitted_classifier(x, y):\n",
    "    clf = svm.SVC(gamma='auto', class_weight='balanced')\n",
    "    clf.fit(x, y)\n",
    "    return clf"
   ]
  },
  {
   "cell_type": "code",
   "execution_count": 13,
   "id": "1cdc72c0",
   "metadata": {},
   "outputs": [
    {
     "name": "stdout",
     "output_type": "stream",
     "text": [
      "Confidence estimation of the classifier using Recall. (train set)\n",
      "Non-pattern recall:         0.9979376127868007\n",
      "Pattern recall:             1.0\n",
      "Average (weighted) recall:  0.9981438515081207\n"
     ]
    }
   ],
   "source": [
    "# Scoring - Calculate the recall of the classifier\n",
    "def print_recall_scores(x_binary, y_binary, name):\n",
    "    y_predictions = classifier.predict(x_binary)\n",
    "    weighted_train_recall = recall_score(y_binary, y_predictions, average='weighted')\n",
    "    non_pattern_train_recall = recall_score(y_binary, y_predictions, average='binary', pos_label=0)\n",
    "    pattern_train_recall = recall_score(y_binary, y_predictions, average='binary', pos_label=1)\n",
    "    print(f\"\"\"Confidence estimation of the classifier using Recall. ({name})\n",
    "Non-pattern recall:         {non_pattern_train_recall}\n",
    "Pattern recall:             {pattern_train_recall}\n",
    "Average (weighted) recall:  {weighted_train_recall}\"\"\")\n",
    "\n",
    "\n",
    "print_recall_scores(x_binary_train, y_binary_train, 'train set')"
   ]
  },
  {
   "cell_type": "code",
   "execution_count": 14,
   "id": "4e67ef07",
   "metadata": {},
   "outputs": [
    {
     "name": "stdout",
     "output_type": "stream",
     "text": [
      "Confidence estimation of the classifier using Recall. (test set)\n",
      "Non-pattern recall:         0.9793526785714286\n",
      "Pattern recall:             0.5202020202020202\n",
      "Average (weighted) recall:  0.9336683417085427\n"
     ]
    }
   ],
   "source": [
    "# Scoring - Calculate the recall of the classifier on the test set\n",
    "print_recall_scores(x_binary_test, y_binary_test, 'test set')"
   ]
  },
  {
   "cell_type": "code",
   "execution_count": 15,
   "id": "ec827505",
   "metadata": {},
   "outputs": [
    {
     "data": {
      "image/png": "[encoded data removed]",
      "text/plain": [
       "<Figure size 864x360 with 4 Axes>"
      ]
     },
     "metadata": {},
     "output_type": "display_data"
    }
   ],
   "source": [
    "# Predictions - A quick inspection of the performance of the model\n",
    "nr_samples = 4\n",
    "no_pattern_indexes = np.array(np.where(y_binary_test == 0)).flatten()\n",
    "pattern_indexes = np.array(np.where(y_binary_test == 1)).flatten()\n",
    "fig, axes = plt.subplots(1, nr_samples, figsize = (12,5))\n",
    "for index in range(nr_samples):\n",
    "    if index % 2 != 1:\n",
    "        sample_pattern_index = np.random.choice(pattern_indexes)\n",
    "        ax_title = \"Pattern.\\n\"\n",
    "    else:\n",
    "        sample_pattern_index = np.random.choice(no_pattern_indexes)\n",
    "        ax_title = \"No pattern.\\n\"\n",
    "\n",
    "    sample_pattern_img = X_test[sample_pattern_index]\n",
    "    sample_feature_vector = x_binary_test[sample_pattern_index].reshape(1, -1)\n",
    "    prediction = classifier.predict(sample_feature_vector)\n",
    "\n",
    "    if prediction == 1:\n",
    "        classifier_result = \"Classifier: Has pattern.\"\n",
    "    else:\n",
    "        classifier_result = \"Classifier: Has no pattern.\"\n",
    "\n",
    "    axes[index].imshow(sample_pattern_img)\n",
    "    axes[index].set_title(ax_title + classifier_result)\n",
    "    axes[index].set_xticks([])\n",
    "    axes[index].set_yticks([])"
   ]
  },
  {
   "cell_type": "code",
   "execution_count": 16,
   "id": "04fd4793",
   "metadata": {},
   "outputs": [],
   "source": [
    "def sigmoid(x):\n",
    "    return 1/(1 + np.exp(-x))"
   ]
  },
  {
   "cell_type": "code",
   "execution_count": 17,
   "id": "92e13a20",
   "metadata": {},
   "outputs": [],
   "source": [
    "# Evaluate - Evaluate and store results in appropriate variables\n",
    "observation_classifier = \"\"\"\n",
    "    We observer several things. First the recall of the classifier is very high for the\n",
    "    non-pattern class, and not that high for the pattern set. These are great results for the few samples that we have,\n",
    "    however calibration is needed to improve these results. Furthermore, we also observe that this performance is reflected\n",
    "    in the arbitrary samples above. The weighted Recall is very high on both the train and test data, which means that the\n",
    "    model is well trained, and remains to be calibrated to improve the individual class results.\n",
    "    \"\"\"\n",
    "# Scoring - Prediction confidence estimates\n",
    "\n",
    "def make_uncalibrated_y(x_binary):\n",
    "    y_predictions = classifier.predict(x_binary)\n",
    "    return np.array(y_predictions, dtype=np.int32)\n",
    "\n",
    "uncalibrated_y = make_uncalibrated_y(x_binary_test)\n",
    "\n",
    "def make_uncalibrated_p(x_binary):\n",
    "    y_binary_pred_estimates = classifier.decision_function(x_binary)\n",
    "    probabilities = np.array(y_binary_pred_estimates, dtype=np.float32).reshape(-1, 1)\n",
    "    probabilities = np.apply_along_axis(sigmoid, 1, probabilities)\n",
    "    #probabilities = MinMaxScaler().fit_transform(probabilities.reshape(-1, 1))\n",
    "    return probabilities.reshape(-1)\n",
    "\n",
    "uncalibrated_p_train = make_uncalibrated_p(x_binary_train)\n",
    "uncalibrated_p = make_uncalibrated_p(x_binary_test)\n",
    "\n",
    "#print(np.info(uncalibrated_y))\n",
    "#print(np.info(uncalibrated_p))"
   ]
  },
  {
   "cell_type": "code",
   "execution_count": 18,
   "id": "dcd6d24c",
   "metadata": {},
   "outputs": [],
   "source": [
    "#// END_TODO [STEP_2]"
   ]
  },
  {
   "cell_type": "markdown",
   "id": "654c3caa",
   "metadata": {},
   "source": [
    "## Measure and visualize calibration"
   ]
  },
  {
   "cell_type": "markdown",
   "id": "336c9fcc",
   "metadata": {},
   "source": [
    "#### Step 3\n",
    "\n",
    "Visualize the calibration of your trained model using a reliability diagram. Describe your observations in the variable `observation_uncalibrated` (max 1000 characters)."
   ]
  },
  {
   "cell_type": "code",
   "execution_count": 19,
   "id": "d5ba83de",
   "metadata": {},
   "outputs": [],
   "source": [
    "#// BEGIN_TODO [STEP_3] Visualize calibration of uncalibrated model (5 points)\n",
    "def show_calibration_curve(empirical_probability, bin_probability_mean, title):\n",
    "    plt.figure(figsize=(8, 8))\n",
    "    plt.plot([0,1], [0,1], linestyle='--', color='k', label='Perfectly Calibrated')\n",
    "    plt.plot(empirical_probability, bin_probability_mean, marker='s', label='Classifier')\n",
    "    plt.legend(loc='lower right')\n",
    "    plt.xlabel('Mean predicted probability')\n",
    "    plt.ylabel('Fraction of positives')\n",
    "    plt.title(title)"
   ]
  },
  {
   "cell_type": "code",
   "execution_count": 20,
   "id": "8fe1c7be",
   "metadata": {},
   "outputs": [
    {
     "data": {
      "image/png": "[encoded data removed]",
      "text/plain": [
       "<Figure size 576x576 with 1 Axes>"
      ]
     },
     "metadata": {
      "needs_background": "light"
     },
     "output_type": "display_data"
    }
   ],
   "source": [
    "# Calibration - Visualize the calibration curve using Equal-mass bins\n",
    "bin_probability_mean, empirical_probability = \\\n",
    "    calibration.calibration_curve(y_binary_test, uncalibrated_p, n_bins=30, strategy='quantile')\n",
    "\n",
    "show_calibration_curve(empirical_probability, bin_probability_mean, \"Calibration curve - Equal mass bins\")"
   ]
  },
  {
   "cell_type": "code",
   "execution_count": 21,
   "id": "b3c5a3b1",
   "metadata": {},
   "outputs": [
    {
     "data": {
      "image/png": "[encoded data removed]",
      "text/plain": [
       "<Figure size 576x576 with 1 Axes>"
      ]
     },
     "metadata": {
      "needs_background": "light"
     },
     "output_type": "display_data"
    }
   ],
   "source": [
    "# Calibration - Visualize the calibration curve using \n",
    "bin_probability_mean, empirical_probability = \\\n",
    "    calibration.calibration_curve(y_binary_test, uncalibrated_p, n_bins=16)\n",
    "\n",
    "show_calibration_curve(empirical_probability, bin_probability_mean, \"Calibration curve - Equal width bins\")"
   ]
  },
  {
   "cell_type": "code",
   "execution_count": 22,
   "id": "2c565736",
   "metadata": {},
   "outputs": [],
   "source": [
    "# TODO: evaluate this\n",
    "observation_uncalibrated = \"\"\"\n",
    "    We first observe the problem with equal-width binning. That is, as most bins approximate the same fraction of positives\n",
    "    value, only 2-3 bins in the graph actually contribute to the calibration error. In both plots we also observe the 's' curve\n",
    "    that forms. In our case, this means that the classifier overestimates low(<=0.2) probabilities, resulting in a high\n",
    "    probability prediction when in fact, this is not the case. Conversely the classifier also underestimates almost all samples\n",
    "    from 0.6 as positive. The equal-mass bin graph shows that overestimation is actually a big problem, as almost all small\n",
    "    bins reside in the overestimation area.\n",
    "    \"\"\""
   ]
  },
  {
   "cell_type": "code",
   "execution_count": 23,
   "id": "cd674c35",
   "metadata": {},
   "outputs": [],
   "source": [
    "#// END_TODO [STEP_3]"
   ]
  },
  {
   "cell_type": "markdown",
   "id": "fc6bbb64",
   "metadata": {},
   "source": [
    "#### Step 4\n",
    "\n",
    "Choose a calibration metric and assign its name to a string variable `binary_metric_choice`. Motivate the choice (including the hyper-parameters, if any) in a string variable `binary_metric_motivation` (max 800 characters). Describe how you decide based on this metric if a classifier is sufficiently calibrated in a string variable `binary_metric_decision` (max 200 characters)."
   ]
  },
  {
   "cell_type": "code",
   "execution_count": 24,
   "id": "8ae00973",
   "metadata": {},
   "outputs": [
    {
     "name": "stdout",
     "output_type": "stream",
     "text": [
      "[0.         0.         0.01851852 0.00823045 0.04373757 0.07531381\n",
      " 0.14074074 0.31325301 0.4893617  0.61904762 0.84615385 0.92\n",
      " 0.95       1.         1.        ]\n",
      "[0.04677532 0.10733442 0.16060246 0.2187287  0.27795531 0.34249865\n",
      " 0.4037066  0.46430116 0.52805782 0.59746672 0.65697231 0.71941183\n",
      " 0.79228297 0.83460796 0.9023729 ]\n"
     ]
    }
   ],
   "source": [
    "#// BEGIN_TODO [STEP_4] Choose a calibration metric (5 points)\n",
    "\n",
    "binary_metric_choice = \"Expected Calibration Error (ECE), with Equal Mass Binning\"\n",
    "\n",
    "binary_metric_motivation = \"\"\"\n",
    "    The ECE with equal width binning would increase the variance and bias, giving a less trustworthy result, we therefor opt for the equal mass binning (sometimes called Adaptive Calibration Error). The number of bins selected for this is based on getting low enough variance between bins (making the calibration curve somewhat monotonic) and enough bins such that a distinction can be made between the high and mid probabilities, for which there are only a few samples. This puts the sweet spot between 20 and 30 bins.\n",
    "    \"\"\"\n",
    "\n",
    "binary_metric_decision = \"\"\"We find a miminum ECE using platt scaling. The calibration curve should clearly follow the diagonal. However, scaling probably won't be able to perfectly approximate the perfect calibration curve.\"\"\"\n",
    "\n",
    "print(bin_probability_mean)\n",
    "print(empirical_probability)"
   ]
  },
  {
   "cell_type": "code",
   "execution_count": 25,
   "id": "6bc913ea",
   "metadata": {},
   "outputs": [],
   "source": [
    "#// END_TODO [STEP_4]"
   ]
  },
  {
   "cell_type": "markdown",
   "id": "01295925",
   "metadata": {},
   "source": [
    "#### Step 5\n",
    "\n",
    "Implement the chosen calibration metric. It should be a Python class with the following method:\n",
    "\n",
    "- `score(self, p, y)`, where\n",
    "    - `p` is an `np.ndarray` of shape $[N,]$ with the confidence estimates of the *positive class* for $N$ samples.\n",
    "    - `y` is an `np.ndarray` of shape $[N,]$ with the corresponding true labels (0 or 1).\n",
    "    - It returns a `np.float` number with the calibration error.\n",
    "\n",
    "Instantiate the class (setting any relevant hyper-parameters) and assign it to the variable `binary_metric`.\n",
    "\n",
    "Measure the calibration error of your model on `X_test` and `y_test` and assign the result to the variable `binary_uncalibrated`."
   ]
  },
  {
   "cell_type": "code",
   "execution_count": 26,
   "id": "59a820dd",
   "metadata": {},
   "outputs": [],
   "source": [
    "#// BEGIN_TODO [STEP_5] Implement the calibration metric (5 points)"
   ]
  },
  {
   "cell_type": "code",
   "execution_count": 27,
   "id": "2291caf8",
   "metadata": {},
   "outputs": [],
   "source": [
    "# Class definition\n",
    "class cal_metric:\n",
    "    def __init__(self, nr_bins, binning_scheme):\n",
    "        self.nr_bins = nr_bins\n",
    "        self.binning_scheme = binning_scheme\n",
    "\n",
    "    def score(self, p, y):\n",
    "        # Define bins according to given scheme\n",
    "        if self.binning_scheme == \"equal_width\":\n",
    "            bins = np.linspace(0, 1, self.nr_bins + 1)\n",
    "        elif self.binning_scheme == \"equal_mass\":\n",
    "            bins = np.linspace(0, 1, self.nr_bins + 1)\n",
    "            bins = np.percentile(p, bins*100)\n",
    "        else:\n",
    "            raise 'Binning scheme not supported.'\n",
    "            \n",
    "        # Neglect bins 0 and 1\n",
    "        actual_bins = bins[1:-1]\n",
    "        \n",
    "        # Assign probabilities to corresponding bins\n",
    "        bin_indexes = np.searchsorted(actual_bins, p)\n",
    "        \n",
    "        # Work out bin statistics\n",
    "        y_sum = np.bincount(bin_indexes, weights=y, minlength=len(bins))\n",
    "        p_sum = np.bincount(bin_indexes, weights=p, minlength=len(bins))\n",
    "        total_bin_sum = np.bincount(bin_indexes, minlength=len(bins))\n",
    "        nonzero_bins = total_bin_sum != 0\n",
    "        mean_predicted_probability = p_sum[nonzero_bins] / total_bin_sum[nonzero_bins]\n",
    "        fraction_of_positives = y_sum[nonzero_bins] / total_bin_sum[nonzero_bins]\n",
    "        \n",
    "        # Calculate ECE\n",
    "        ece = np.sum((total_bin_sum[nonzero_bins] / len(y))*abs(fraction_of_positives - mean_predicted_probability))\n",
    "\n",
    "        return np.float64(ece)"
   ]
  },
  {
   "cell_type": "code",
   "execution_count": 28,
   "id": "da5435f0",
   "metadata": {},
   "outputs": [
    {
     "name": "stdout",
     "output_type": "stream",
     "text": [
      "0.20298081937447265\n"
     ]
    }
   ],
   "source": [
    "# Measure the calibration error\n",
    "binary_metric = cal_metric(20, \"equal_mass\")\n",
    "binary_uncalibrated = binary_metric.score(uncalibrated_p, y_binary_test)\n",
    "print(binary_uncalibrated)"
   ]
  },
  {
   "cell_type": "code",
   "execution_count": 29,
   "id": "b97bac44",
   "metadata": {},
   "outputs": [],
   "source": [
    "#// END_TODO [STEP_5]"
   ]
  },
  {
   "cell_type": "markdown",
   "id": "d4e1b7b9",
   "metadata": {},
   "source": [
    "## Calibrate the classifer"
   ]
  },
  {
   "cell_type": "markdown",
   "id": "1276d99d",
   "metadata": {},
   "source": [
    "#### Step 6\n",
    "\n",
    "Implement at least two calibration methods. Each calibration method should be a Python class with the following methods:\n",
    "\n",
    "- `fit(self, p, y)`, where \n",
    "    - `p` is an `np.ndarray` of shape $[N,]$ with the confidence estimates of the *positive class* for $N$ samples.\n",
    "    - `y` is an `np.ndarray` of shape $[N,]$ with the corresponding true labels (0 or 1).\n",
    "    - It fits the calibration model and returns a reference to `self`.\n",
    "- `predict_proba(self, p)`, where\n",
    "    - `p` is an `np.ndarray` of shape $[N,]$ with confidence estimates of the *positive class* for $N$ samples.\n",
    "    - It returns an `np.ndarray` of shape $[N,]$ with the calibrated confidence estimates for each sample in `p`.\n",
    "\n",
    "> **IMPORTANT:** You are not allowed to use the `sklearn.calibration.CalibratedClassifierCV()` method.\n",
    "\n",
    "Instantiate the calibration methods (setting any relevant hyper-parameters) and assign them to a list variable `binary_calibrators`."
   ]
  },
  {
   "cell_type": "code",
   "execution_count": 30,
   "id": "42dd91c3",
   "metadata": {},
   "outputs": [],
   "source": [
    "#// BEGIN_TODO [STEP_6] Implement calibration methods (10 points)"
   ]
  },
  {
   "cell_type": "code",
   "execution_count": 31,
   "id": "20c88a46",
   "metadata": {},
   "outputs": [],
   "source": [
    "from sklearn.linear_model import LogisticRegression\n",
    "class cal_model_platt:\n",
    "    def __init__(self):\n",
    "        self.logistic_regression = LogisticRegression()\n",
    "    \n",
    "    def fit(self, p, y):\n",
    "        self.logistic_regression.fit(p, y)\n",
    "        return self\n",
    "    \n",
    "    def predict_proba(self, p):\n",
    "        calibrated_p = self.logistic_regression.predict_proba(p)[:,1] # (y = 1)\n",
    "        return np.array(calibrated_p)"
   ]
  },
  {
   "cell_type": "code",
   "execution_count": 32,
   "id": "a07a3b7e",
   "metadata": {},
   "outputs": [],
   "source": [
    "class cal_model_preprocessing_platt:\n",
    "    def label_transform(self, y):\n",
    "        y_transformed = np.empty_like(y, dtype=np.float64)\n",
    "        _, (zeros, ones) = np.unique(y, return_counts=True)\n",
    "        label_0 = 1 / (zeros + 2)\n",
    "        label_1 = (ones + 1) / (ones + 2)\n",
    "        for i in range(len(y)):\n",
    "            if y[i] == 0:\n",
    "                y_transformed[i] = label_0\n",
    "            else:\n",
    "                y_transformed[i] = label_1\n",
    "        return y_transformed"
   ]
  },
  {
   "cell_type": "code",
   "execution_count": 33,
   "id": "7bb7c517",
   "metadata": {},
   "outputs": [],
   "source": [
    "from sklearn.isotonic import IsotonicRegression\n",
    "class cal_model_isotonic:\n",
    "    def __init__(self):\n",
    "        self.isotonic_regression = IsotonicRegression(out_of_bounds='clip')\n",
    "        \n",
    "    def fit(self, p, y):\n",
    "        print(f\"p shape: {p.shape}\")\n",
    "        print(f\"y shape: {y.shape}\")\n",
    "        self.isotonic_regression.fit(p, y)\n",
    "        return self\n",
    "    \n",
    "    def predict_proba(self, p):\n",
    "        print(f\"pred p shape: {p.shape}\")\n",
    "        calibrated_p = self.isotonic_regression.transform(p)\n",
    "        return np.array(calibrated_p)"
   ]
  },
  {
   "cell_type": "code",
   "execution_count": 34,
   "id": "2bdb6d81",
   "metadata": {},
   "outputs": [],
   "source": [
    "binary_calibrators = [cal_model_isotonic(), cal_model_platt()]\n",
    "#// END_TODO [STEP_6]"
   ]
  },
  {
   "cell_type": "markdown",
   "id": "d03c78a9",
   "metadata": {},
   "source": [
    "#### Step 7\n",
    "\n",
    "Evaluate the performance of your calibration methods. Describe your observations in the variable `observation_calibrators` (max 2000 characters)."
   ]
  },
  {
   "cell_type": "code",
   "execution_count": 35,
   "id": "fdcee073",
   "metadata": {},
   "outputs": [],
   "source": [
    "#// BEGIN_TODO [STEP_7] Evaluate the calibration method (10 points)\n",
    "def show_calibration_side_by_side(empirical_probability_uncal, bin_probability_mean_uncal, uncal_label, empirical_probability_cal, bin_probability_mean_cal, cal_label, title=''):\n",
    "    plt.figure(figsize=(8, 8))\n",
    "    plt.title(title)\n",
    "    plt.plot([0,1], [0,1], linestyle='--', color='k', label='Perfectly Calibrated')\n",
    "    plt.plot(empirical_probability_uncal, bin_probability_mean_uncal, marker='s', label=uncal_label)\n",
    "    plt.plot(empirical_probability_cal, bin_probability_mean_cal, marker='s', label=cal_label)\n",
    "    plt.legend(loc='lower right')\n",
    "    plt.xlabel('Mean predicted probability')\n",
    "    plt.ylabel('Fraction of positives')"
   ]
  },
  {
   "cell_type": "code",
   "execution_count": 36,
   "id": "e653c4c3",
   "metadata": {},
   "outputs": [
    {
     "name": "stdout",
     "output_type": "stream",
     "text": [
      "ECE scores:\n",
      "- Uncalibrated: 0.20252733441753004\n",
      "- Calibrated:   0.03910813768700329\n"
     ]
    },
    {
     "data": {
      "image/png": "[encoded data removed]",
      "text/plain": [
       "<Figure size 576x576 with 1 Axes>"
      ]
     },
     "metadata": {
      "needs_background": "light"
     },
     "output_type": "display_data"
    }
   ],
   "source": [
    "# Instantiate the calibration model and perform calibration -> Platt scaling\n",
    "calibrator_multi_iso = cal_model_platt()\n",
    "calibrator_multi_iso.fit(uncalibrated_p_train.reshape(-1, 1), y_binary_train)\n",
    "calibrated_p = calibrator_multi_iso.predict_proba(uncalibrated_p.reshape(-1, 1))\n",
    "\n",
    "# Calc calibration curve\n",
    "bin_probability_mean_uncal, empirical_probability_uncal = \\\n",
    "    calibration.calibration_curve(y_binary_test, uncalibrated_p, n_bins=20, strategy='quantile')\n",
    "bin_probability_mean_cal, empirical_probability_cal = \\\n",
    "    calibration.calibration_curve(y_binary_test, calibrated_p, n_bins=20, strategy='quantile')\n",
    "\n",
    "# Plot the results\n",
    "show_calibration_side_by_side(\n",
    "    empirical_probability_uncal, bin_probability_mean_uncal, \"Equal mass bins - Uncalibrated\",\n",
    "    empirical_probability_cal, bin_probability_mean_cal, \"Equal mass bins - Calibrated\",\n",
    "    'Calibration curve comparison - Platt scaling')\n",
    "\n",
    "# Compute the ECE\n",
    "binary_metric = cal_metric(20, 'equal_width')\n",
    "ece_uncalibrated = binary_metric.score(uncalibrated_p, y_binary_test)\n",
    "ece_calibrated = binary_metric.score(calibrated_p, y_binary_test)\n",
    "print(f\"\"\"ECE scores:\n",
    "- Uncalibrated: {ece_uncalibrated}\n",
    "- Calibrated:   {ece_calibrated}\"\"\")"
   ]
  },
  {
   "cell_type": "code",
   "execution_count": 37,
   "id": "46efe846",
   "metadata": {},
   "outputs": [
    {
     "name": "stdout",
     "output_type": "stream",
     "text": [
      "p shape: (4310, 1)\n",
      "y shape: (4310,)\n",
      "pred p shape: (1990, 1)\n",
      "ECE scores:\n",
      "- Uncalibrated: 0.20252733441753004\n",
      "- Calibrated:   0.0672732605313386\n"
     ]
    },
    {
     "data": {
      "image/png": "[encoded data removed]",
      "text/plain": [
       "<Figure size 576x576 with 1 Axes>"
      ]
     },
     "metadata": {
      "needs_background": "light"
     },
     "output_type": "display_data"
    }
   ],
   "source": [
    "# Instantiate the calibration model and perform calibration -> Isotonic regression\n",
    "calibrator = cal_model_isotonic()\n",
    "calibrator.fit(uncalibrated_p_train.reshape(-1, 1), y_binary_train)\n",
    "calibrated_p = calibrator.predict_proba(uncalibrated_p.reshape(-1, 1))\n",
    "\n",
    "# Calc calibration curve\n",
    "bin_probability_mean_uncal, empirical_probability_uncal = \\\n",
    "    calibration.calibration_curve(y_binary_test, uncalibrated_p, n_bins=20, strategy='quantile')\n",
    "bin_probability_mean_cal, empirical_probability_cal = \\\n",
    "    calibration.calibration_curve(y_binary_test, calibrated_p, n_bins=20, strategy='quantile')\n",
    "\n",
    "# Plot the results\n",
    "show_calibration_side_by_side(\n",
    "    empirical_probability_uncal, bin_probability_mean_uncal, \"Equal mass bins - Uncalibrated\",\n",
    "    empirical_probability_cal, bin_probability_mean_cal, \"Equal mass bins - Calibrated\",\n",
    "    'Calibration curve comparison - Isotonic Regression')\n",
    "\n",
    "# Compute the ECE\n",
    "binary_metric = cal_metric(20, 'equal_width')\n",
    "ece_uncalibrated = binary_metric.score(uncalibrated_p, y_binary_test)\n",
    "ece_calibrated = binary_metric.score(calibrated_p, y_binary_test)\n",
    "print(f\"\"\"ECE scores:\n",
    "- Uncalibrated: {ece_uncalibrated}\n",
    "- Calibrated:   {ece_calibrated}\"\"\")"
   ]
  },
  {
   "cell_type": "code",
   "execution_count": 38,
   "id": "8fac6439",
   "metadata": {},
   "outputs": [],
   "source": [
    "observation_calibrators = \"\"\"\n",
    "    For Platt scaling, we observe a few things. First, the calibration metric shows that the calibration process has been \n",
    "    very succesful. The ECE value started at approximately 0.30 and went down to 0.05 after calibration, showing that the \n",
    "    distance between the optimal and classifier calibration curves have been reduced significantly. Second, the calibration \n",
    "    curve plots show clear improvement. Most samples in this set are situated around 0, that is no pattern. What we see here \n",
    "    is that the uncalibrated model was very uncertain, often overestimating predictions (20-40% probability predictions while \n",
    "    it often was 0%). In the calibrated curve, we see that most predictions, which are situated around 0, now follow the ideal\n",
    "    calibration curve. Furthermore we observe that there are in fact a few outliers in which the model underestimates the \n",
    "    prediction, and this is in fact a product of the imbalance of the dataset.\n",
    "    Looking at the Isotonic calibration curve, we notice that the calibrated model has a linear fit. We also notice that this\n",
    "    is the only output we get when setting the parameter 'out_of_bound' to 'clip', which sets all X values that fall outside\n",
    "    of the training domain to the nearest train interval endpoint. In this case, it will either 'clip' to 0 or 1. The\n",
    "    uncalibrated probabilities are not monotonic, and since Isotonic Regression works best when given a monotonic function as\n",
    "    input, it is to be expected that the output is not perfectly divided in several bins. Nevertheless, Isotonic Regression\n",
    "    calibration shows a clear improvement in ECE score, with a reduction of ~0.23. The reduction is not as good as what Platt\n",
    "    scaling gives us, but the advantage of isotonic regression is that the curve balanced. It still over-estimates everywhere,\n",
    "    but only slightly when compared to Platt scaling.\n",
    "    \"\"\""
   ]
  },
  {
   "cell_type": "code",
   "execution_count": 39,
   "id": "16c84a22",
   "metadata": {},
   "outputs": [],
   "source": [
    "#// END_TODO [STEP_7]"
   ]
  },
  {
   "cell_type": "markdown",
   "id": "17787b13",
   "metadata": {},
   "source": [
    "#### Step 8\n",
    "\n",
    "Let's evaluate your selected calibration method on the output from different classifier, stored in the `./data/wafer_calibration.pkl` pickle file."
   ]
  },
  {
   "cell_type": "code",
   "execution_count": 40,
   "id": "5394811a",
   "metadata": {},
   "outputs": [],
   "source": [
    "with open('./data/wafer_calibration.pkl', 'rb') as f:\n",
    "    p_calib_train, p_calib_test, y_calib_train, y_calib_test = pickle.load(f)"
   ]
  },
  {
   "cell_type": "markdown",
   "id": "f9f5e369",
   "metadata": {},
   "source": [
    "`p_calib_train` and `p_calib_test` contain the confidence estimates of a classifier (divided into a training and test set), and `y_calib_train` and `y_calib_test` contain the corresponding true labels."
   ]
  },
  {
   "cell_type": "markdown",
   "id": "8978bf59",
   "metadata": {},
   "source": [
    "Retrain your calibration methods on `p_calib_train` and `y_calib_train`. Use `p_calib_test` and `y_calib_test` to evaluate your methods. Describe your observations in the variable `observation_other` (max 800 characters)."
   ]
  },
  {
   "cell_type": "code",
   "execution_count": 41,
   "id": "7fc63ef0",
   "metadata": {},
   "outputs": [],
   "source": [
    "#// BEGIN_TODO [STEP_8] Evaluate the calibration method on another classifier (5 points)"
   ]
  },
  {
   "cell_type": "code",
   "execution_count": 42,
   "id": "96fcb012",
   "metadata": {},
   "outputs": [
    {
     "name": "stdout",
     "output_type": "stream",
     "text": [
      "(895,) (1095,)\n"
     ]
    }
   ],
   "source": [
    "print(p_calib_train.shape, p_calib_test.shape)"
   ]
  },
  {
   "cell_type": "code",
   "execution_count": 43,
   "id": "77ec1079",
   "metadata": {},
   "outputs": [
    {
     "name": "stdout",
     "output_type": "stream",
     "text": [
      "ECE scores:\n",
      "- Uncalibrated: 0.018968135330530482\n",
      "- Calibrated:   0.0244052070054616\n"
     ]
    },
    {
     "data": {
      "image/png": "[encoded data removed]",
      "text/plain": [
       "<Figure size 576x576 with 1 Axes>"
      ]
     },
     "metadata": {
      "needs_background": "light"
     },
     "output_type": "display_data"
    }
   ],
   "source": [
    "# Instantiate the calibration model and perform calibration -> Platt scaling\n",
    "calibrator = cal_model_platt()\n",
    "calibrator.fit(p_calib_train.reshape(-1, 1), y_calib_train)\n",
    "calibrated_p = calibrator.predict_proba(p_calib_test.reshape(-1, 1))\n",
    "\n",
    "# Calc calibration curve\n",
    "bin_probability_mean_uncal, empirical_probability_uncal = \\\n",
    "    calibration.calibration_curve(y_calib_test, p_calib_test, n_bins=20, strategy='quantile')\n",
    "bin_probability_mean_cal, empirical_probability_cal = \\\n",
    "    calibration.calibration_curve(y_calib_test, calibrated_p, n_bins=20, strategy='quantile')\n",
    "\n",
    "\n",
    "# Plot the results\n",
    "show_calibration_side_by_side(empirical_probability_uncal, bin_probability_mean_uncal, 'Equal mass bins - Uncalibrated',\n",
    "                              empirical_probability_cal, bin_probability_mean_cal, 'Equal mass bins - Uncalibrated',\n",
    "                              'Calibration curve comparison - Platt scaling')\n",
    "# Compute the ECE\n",
    "binary_metric = cal_metric(20, 'equal_width')\n",
    "ece_uncalibrated = binary_metric.score(p_calib_test, y_calib_test)\n",
    "ece_calibrated = binary_metric.score(calibrated_p, y_calib_test)\n",
    "print(f\"\"\"ECE scores:\n",
    "- Uncalibrated: {ece_uncalibrated}\n",
    "- Calibrated:   {ece_calibrated}\"\"\")"
   ]
  },
  {
   "cell_type": "code",
   "execution_count": 44,
   "id": "3c1878f1",
   "metadata": {},
   "outputs": [
    {
     "name": "stdout",
     "output_type": "stream",
     "text": [
      "p shape: (895, 1)\n",
      "y shape: (895,)\n",
      "pred p shape: (1095, 1)\n",
      "ECE scores:\n",
      "- Uncalibrated: 0.018968135330530482\n",
      "- Calibrated:   0.0061971466273885905\n"
     ]
    },
    {
     "data": {
      "image/png": "[encoded data removed]",
      "text/plain": [
       "<Figure size 576x576 with 1 Axes>"
      ]
     },
     "metadata": {
      "needs_background": "light"
     },
     "output_type": "display_data"
    }
   ],
   "source": [
    "# Instantiate the calibration model and perform calibration -> Isotonic regression\n",
    "calibrator = cal_model_isotonic()\n",
    "calibrator.fit(p_calib_train.reshape(-1, 1), y_calib_train)\n",
    "calibrated_p = calibrator.predict_proba(p_calib_test.reshape(-1, 1))\n",
    "\n",
    "# Calc calibration curve\n",
    "bin_probability_mean_uncal, empirical_probability_uncal = \\\n",
    "    calibration.calibration_curve(y_calib_test, p_calib_test, n_bins=20, strategy='quantile')\n",
    "bin_probability_mean_cal, empirical_probability_cal = \\\n",
    "    calibration.calibration_curve(y_calib_test, calibrated_p, n_bins=20, strategy='quantile')\n",
    "\n",
    "show_calibration_side_by_side(empirical_probability_uncal, bin_probability_mean_uncal, 'Equal mass bins - Uncalibrated',\n",
    "                              empirical_probability_cal, bin_probability_mean_cal, 'Equal mass bins - Calibrated',\n",
    "                              'Calibration curve comparison - Isotonic regression')\n",
    "\n",
    "# Compute the ECE\n",
    "binary_metric = cal_metric(20, 'equal_width')\n",
    "ece_uncalibrated = binary_metric.score(p_calib_test, y_calib_test)\n",
    "ece_calibrated = binary_metric.score(calibrated_p, y_calib_test)\n",
    "print(f\"\"\"ECE scores:\n",
    "- Uncalibrated: {ece_uncalibrated}\n",
    "- Calibrated:   {ece_calibrated}\"\"\")"
   ]
  },
  {
   "cell_type": "markdown",
   "id": "55702d57",
   "metadata": {},
   "source": [
    "Evaluate your classifier and calibration method on the data in `X_ood`. Describe your observations in a string variable `observation_ood` (max 1000 characters). Describe one drawback of this approach for identifying out-of-distribution samples in a string variable `drawback_ood` (max 500 characters)."
   ]
  },
  {
   "cell_type": "code",
   "execution_count": 45,
   "id": "dcc79488",
   "metadata": {},
   "outputs": [],
   "source": [
    "observation_other = \"\"\"\n",
    "    We observe that the uncalibrated ECE is already very low, meaning the predicted probabilities are already close to optimal.\n",
    "    Since the uncalibrated curve has no S-like shape, Platt scaling does not perform very well and makes the ECE worse. This\n",
    "    we confirm visually in the plotted graph, showing that Platt scaling increases the under-estimation of the model.\n",
    "    Isotonic regression works extremely well in this case, as the ECE is further reduced to a marginal difference between\n",
    "    the optimal and classifier calibration curves. Isotonic regression therefore performs much better on this, possibly more\n",
    "    balanced, dataset.\n",
    "    \"\"\""
   ]
  },
  {
   "cell_type": "code",
   "execution_count": 46,
   "id": "ed893c39",
   "metadata": {},
   "outputs": [],
   "source": [
    "#// END_TODO [STEP_8]"
   ]
  },
  {
   "cell_type": "markdown",
   "id": "072bfb5a",
   "metadata": {},
   "source": [
    "#### Step 9\n",
    "\n",
    "Choose your favorite calibration method. Assign the instantiated class implementing your chosen calibration method to the variable `binary_calibrator` and its name to a string variable `binary_calibrator_choice`. Motivate the choice (including hyper-parameters, if any) in a string variable `binary_calibrator_`motivation`` (max 800 characters).\n",
    "\n",
    "Apply the chosen calibration method to your model on the test data `X_test` and assign the calibrated confidence estimates to `q_test` (an `np.ndarray` of shape $[N,]$ and `dtype` of `np.float32`).\n",
    "\n",
    "Apply the calibration method to the confidence estimates in `p_calib_test` and assign the calibrated class probabilities to the variable `q_calib_test` (an `np.ndarray` of shape $[N,]$ and `dtype` of `np.float32`).\n",
    "\n",
    "Measure the calibration error of the calibrated model and assign the result to the variable `binary_calibrated`."
   ]
  },
  {
   "cell_type": "code",
   "execution_count": 47,
   "id": "aea89c51",
   "metadata": {},
   "outputs": [],
   "source": [
    "#// BEGIN_TODO [STEP_9] Choose a calibration method (5 points)"
   ]
  },
  {
   "cell_type": "code",
   "execution_count": 48,
   "id": "6128b735",
   "metadata": {},
   "outputs": [],
   "source": [
    "binary_calibrator = cal_model_isotonic()\n",
    "binary_calibrator_choice = \"Isotonic Regression\"\n",
    "binary_calibrator_motivation = \"\"\"\n",
    "    If we were to pick a calibration method that performs well on both datasets, then Isotonic Regression would provide the\n",
    "    most balanced fit. It performs exceptionally well on the p_calib_test dataset and also results in a very balanced, but\n",
    "    slightly underestimated, set of probabilities on the X_test dataset.\n",
    "    \"\"\""
   ]
  },
  {
   "cell_type": "code",
   "execution_count": 49,
   "id": "fd5f70f6",
   "metadata": {},
   "outputs": [
    {
     "name": "stdout",
     "output_type": "stream",
     "text": [
      "p shape: (4310, 1)\n",
      "y shape: (4310,)\n",
      "pred p shape: (1990, 1)\n",
      "p shape: (895, 1)\n",
      "y shape: (895,)\n",
      "pred p shape: (1095, 1)\n",
      "ECE scores:\n",
      "- Calibrated: 0.0061971466273885905\n"
     ]
    }
   ],
   "source": [
    "# uncalibrated_p = X_test probabilities\n",
    "# uncalibrated_p_train = X_train probabilities\n",
    "\n",
    "# Fit on train data first\n",
    "binary_calibrator.fit(uncalibrated_p_train.reshape(-1, 1), y_binary_train)\n",
    "\n",
    "# X_test calibration\n",
    "q_test = np.array(binary_calibrator.predict_proba(uncalibrated_p.reshape(-1, 1)), dtype=np.float32)\n",
    "\n",
    "# Train new calibrator model\n",
    "binary_calibrator_2 = cal_model_isotonic()\n",
    "binary_calibrator_2.fit(p_calib_train.reshape(-1, 1), y_calib_train)\n",
    "\n",
    "# p_calib_test calibration\n",
    "q_calib_test = np.array(binary_calibrator_2.predict_proba(p_calib_test.reshape(-1, 1)), dtype=np.float32)\n",
    "\n",
    "# Calibration error measured on q_calib_test\n",
    "cal_error_metric = cal_metric(20, \"equal_width\")\n",
    "binary_calibrated = binary_metric.score(q_calib_test, y_calib_test)\n",
    "print(f\"\"\"ECE scores:\n",
    "- Calibrated: {binary_calibrated}\"\"\")"
   ]
  },
  {
   "cell_type": "code",
   "execution_count": 50,
   "id": "adf235ee",
   "metadata": {},
   "outputs": [],
   "source": [
    "#// END_TODO [STEP_9]"
   ]
  },
  {
   "cell_type": "markdown",
   "id": "94d0bbd2",
   "metadata": {},
   "source": [
    "#### Leaderboard\n",
    "\n",
    "If you would like to see how your binary calibration method compares to others, you can chose to submit your calibration method to the leaderboard. All submitted calibration methods will be evaluated on a held-out set from a similar distribution as `p_calib_test` and `y_calib_test`.\n",
    "\n",
    "You may submit your notebook as many times as you like before the deadline. We will try to update the leaderboard daily. Your latest submission at the moment the leaderboard is computed will count.\n",
    "\n",
    "If you would like to submit your `binary_calibrator` to the leaderboard, then assign a reference to your *trained* calibration method to the variable `leaderboard_calibrator`. Otherwise, set it to `None`. Since it will be evaluated on a held-out set, you are free to use any data that was included with this assignment. Also, assign a nickname to the string variable `leaderboard_nickname` that will be shown on the leaderboard next to your score."
   ]
  },
  {
   "cell_type": "code",
   "execution_count": 51,
   "id": "2e84eefd",
   "metadata": {},
   "outputs": [],
   "source": [
    "#// BEGIN_TODO [LEADERBOARD] Join the leaderboard (0 points)c"
   ]
  },
  {
   "cell_type": "code",
   "execution_count": 52,
   "id": "33cf0808",
   "metadata": {},
   "outputs": [
    {
     "name": "stdout",
     "output_type": "stream",
     "text": [
      "p shape: (895, 1)\n",
      "y shape: (895,)\n"
     ]
    }
   ],
   "source": [
    "calibrator = cal_model_isotonic()\n",
    "leaderboard_calibrator = calibrator.fit(p_calib_train.reshape(-1, 1), y_calib_train)\n",
    "leaderboard_nickname = \"Group2\""
   ]
  },
  {
   "cell_type": "code",
   "execution_count": 53,
   "id": "b4addf38",
   "metadata": {},
   "outputs": [],
   "source": [
    "#// END_TODO [LEADERBOARD]"
   ]
  },
  {
   "cell_type": "markdown",
   "id": "78e4b6e9",
   "metadata": {},
   "source": [
    "## Extend to multi-class classification\n",
    "\n",
    "So far we have assumed a binary classification task. In this part you will implement a calibration metric and method that is applicable to multi-class classification.\n",
    "\n",
    "#### Step 10\n",
    "\n",
    "For evaluating the multi-class calibration metric and method, train a classifier on the multi-class wafer map data `X_train` and `y_train` that was loaded earlier. You are free to chose any model and data preprocessing method, as long as:\n",
    "\n",
    "- your classifier outputs the predicted class and the confidence estimate for each class,\n",
    "- your submission executes within 10 minutes on Momotor,\n",
    "- you use the libraries available on Momotor (if you would like to use other libraries, please contact the instructor to see if it can be accommodated).\n",
    "\n",
    "Evaluate your trained model on the test set `X_test` and `y_test`. What do you observe? How do you know that your model is well trained? Assign your answer to a string variable `observation_multiclass_classifier` (max 600 characters).\n",
    "\n",
    "Apply the classifier to the `X_test` data and store the predicted classes and confidence estimates in the variables `multi_uncalibrated_y` and `multi_uncalibrated_p`, respectively:\n",
    "\n",
    "- `multi_uncalibrated_y` should be a `np.ndarray` of shape $[N,K]$, with the predicted classes (one-hot encoded), where $N$ is the number of samples and $K$ is the number of classes, i.e. `multi_uncalibrated_y[n][k]` is 1 if the classifier predicted class `k`, otherwise it is 0,\n",
    "- `multi_uncalibrated_p` should be a `np.ndarray` of shape $[N,K]$, with the corresponding confidence estimates, i.e. `multi_uncalibrated_p[n][k]` is the classifier's confidence that the predicted class should be `k`.\n",
    "\n",
    "> **IMPORTANT:** For the wafer dataset $K = 9$ and the class indeces should correspond to the classes listed in section **Load the data**."
   ]
  },
  {
   "cell_type": "code",
   "execution_count": 54,
   "id": "8b52dd50",
   "metadata": {},
   "outputs": [],
   "source": [
    "#// BEGIN_TODO [STEP_10] Train a multi-class classifier (10 points)"
   ]
  },
  {
   "cell_type": "code",
   "execution_count": 55,
   "id": "dc2001fb",
   "metadata": {},
   "outputs": [],
   "source": [
    "# Preprocessing - Convert 26x26 pattern to a 1D feature vector of size 676\n",
    "feature_vectors_train = X_train.reshape(len(X_train), -1) # (4310, 676)\n",
    "feature_vectors_test = X_test.reshape(len(X_test), -1) # (1990, 676)\n",
    "\n",
    "# Preprocessing - Standardization for our machine learning estimator\n",
    "standard_scaler = StandardScaler()\n",
    "x_train = standard_scaler.fit_transform(feature_vectors_train)\n",
    "x_test = standard_scaler.fit_transform(feature_vectors_test)\n",
    "\n",
    "# One-hot-encode Y labels for later use\n",
    "K = 9\n",
    "y_train_one_hot = np.zeros((y_train.size, K))\n",
    "y_train_one_hot[np.arange(y_train.size), y_train] = 1\n",
    "y_test_one_hot = np.zeros((y_test.size, K))\n",
    "y_test_one_hot[np.arange(y_test.size), y_test] = 1"
   ]
  },
  {
   "cell_type": "code",
   "execution_count": 56,
   "id": "33f3a4c0",
   "metadata": {},
   "outputs": [],
   "source": [
    "# Training - Fitting data to an SVC classifier\n",
    "# We treat multi-class classification as K binary classification problems, hence use 'one-versus-rest' decision function\n",
    "classifier = create_fitted_classifier(x_train, y_train)"
   ]
  },
  {
   "cell_type": "code",
   "execution_count": 57,
   "id": "6eef522e",
   "metadata": {},
   "outputs": [
    {
     "name": "stdout",
     "output_type": "stream",
     "text": [
      "Evaluation of the classifier.\n",
      "Training - Average (weighted) recall:   0.9962877030162413\n",
      "Test - Average (weighted) recall:       0.9241206030150754\n"
     ]
    }
   ],
   "source": [
    "# Scoring - Calculate the recall of the classifier\n",
    "# We only compute the average, weighted, recall of the classifier as computing the recall for K classes would be\n",
    "# less insightful.\n",
    "y_train_predictions = classifier.predict(x_train)\n",
    "y_test_predictions = classifier.predict(x_test)\n",
    "\n",
    "weighted_train_recall = recall_score(y_train, y_train_predictions, average='weighted')\n",
    "weighted_test_recall = recall_score(y_test, y_test_predictions, average='weighted')\n",
    "print(f\"\"\"Evaluation of the classifier.\n",
    "Training - Average (weighted) recall:   {weighted_train_recall}\n",
    "Test - Average (weighted) recall:       {weighted_test_recall}\"\"\")\n"
   ]
  },
  {
   "cell_type": "code",
   "execution_count": 58,
   "id": "310da0e3",
   "metadata": {},
   "outputs": [],
   "source": [
    "observation_multiclass_classifier = \"\"\"\n",
    "Instead of computing the recall for each class, we keep it brief and insightful, meaning that we compute the average recall\n",
    "over all classes. The result is approximately equal to the weighted average of the binary classification problem. Thus we\n",
    "assume that the individual pattern classes have approximately the same recall as the recall of the pattern class in the\n",
    "binary classification problem (with the exception of classes for which no training samples exist). From this we conclude\n",
    "that the model performs roughly as good as the model in the binary classification problem.\n",
    "\"\"\""
   ]
  },
  {
   "cell_type": "code",
   "execution_count": 59,
   "id": "6ba1d5ad",
   "metadata": {},
   "outputs": [],
   "source": [
    "def softmax(x):\n",
    "    return np.exp(x) / np.sum(np.exp(x), axis=0)"
   ]
  },
  {
   "cell_type": "code",
   "execution_count": 60,
   "id": "9b6f6af0",
   "metadata": {},
   "outputs": [
    {
     "name": "stdout",
     "output_type": "stream",
     "text": [
      "True\n",
      "True\n"
     ]
    }
   ],
   "source": [
    "# Scoring - Prediction confidence estimates\n",
    "y_test_pred_estimates = classifier.decision_function(x_test)\n",
    "y_train_pred_estimates = classifier.decision_function(x_train)\n",
    "\n",
    "# Create one-hot encoding for predictions\n",
    "K = 9\n",
    "one_hot_predictions = np.zeros((y_test_predictions.size, K))\n",
    "one_hot_predictions[np.arange(y_test_predictions.size), y_test_predictions] = 1\n",
    "\n",
    "multi_uncalibrated_y = np.array(one_hot_predictions, dtype=np.int32)\n",
    "multi_uncalibrated_p = np.array(y_test_pred_estimates, dtype=np.float32)\n",
    "multi_uncalibrated_p_train = np.array(y_train_pred_estimates, dtype=np.float32)\n",
    "\n",
    "# Apply softmax to get probabilities\n",
    "multi_uncalibrated_p = np.apply_along_axis(softmax, 1, multi_uncalibrated_p)\n",
    "multi_uncalibrated_p_train = np.apply_along_axis(softmax, 1, multi_uncalibrated_p_train)\n",
    "\n",
    "# Use the following array indices\n",
    "# np.unique(y_train) = np.unique(y_test) = [0 1 3 5 6 7]\n",
    "# And fill the missing indices, [2, 4, 8] with probability 0\n",
    "missing_indices = [2, 4, 8]\n",
    "missing_probabilities_test = np.zeros(len(multi_uncalibrated_p), dtype=np.float32)\n",
    "missing_probabilities_train = np.zeros(len(multi_uncalibrated_p_train), dtype=np.float32)\n",
    "\n",
    "for index in missing_indices:\n",
    "    multi_uncalibrated_p = np.insert(multi_uncalibrated_p, index, missing_probabilities_test, axis=1)\n",
    "    multi_uncalibrated_p_train = np.insert(multi_uncalibrated_p_train, index, missing_probabilities_train, axis=1)\n",
    "\n",
    "# Verify that all rows sum to 1\n",
    "print(multi_uncalibrated_p.sum()==len(multi_uncalibrated_p))\n",
    "print(multi_uncalibrated_p_train.sum()==len(multi_uncalibrated_p_train))\n",
    "\n",
    "#// END_TODO [STEP_10]"
   ]
  },
  {
   "cell_type": "markdown",
   "id": "662ddf0b",
   "metadata": {},
   "source": [
    "#### Step 11\n",
    "\n",
    "Choose a calibration metric and assign your choice to a string variable `multi_calibration_choice`. Motivate the choice (including the hyper-parameters, if any) in a string variable `multi_calibration_motivation` (max 800 characters). Describe how you decide based on this metric if a classifier is sufficiently calibrated in a string variable `multi_calibration_decision` (max 200 characters)."
   ]
  },
  {
   "cell_type": "code",
   "execution_count": 61,
   "id": "ede8a0e1",
   "metadata": {},
   "outputs": [],
   "source": [
    "#// BEGIN_TODO [STEP_11] Choose a multi-class calibration metric (5 points)"
   ]
  },
  {
   "cell_type": "code",
   "execution_count": 62,
   "id": "8a7c8f90",
   "metadata": {},
   "outputs": [],
   "source": [
    "multi_calibration_choice = \"Static Calibration Error\"\n",
    "multi_calibration_motivation = \"\"\"\n",
    "Since ECE was a very insightful statistic for binary classification, and as we now treat the multi-class classification as K-\n",
    "binary classification problems, we find it straightforward to use SCE. SCE is a simple extension of ECE, binning predictions\n",
    "seperately for each class probability, and averaging ECE across bins.\n",
    "\"\"\"\n",
    "multi_calibration_decision = \"\"\"\"\n",
    "ECE assumes infinite data and infinite bins, meaning it converges to 0. SCE is guaranteed to be zero if the model is calibrated.\n",
    "Thus calibrating the model becomes a case of minimizing the SCE.\n",
    "\"\"\""
   ]
  },
  {
   "cell_type": "code",
   "execution_count": 63,
   "id": "bbb225f7",
   "metadata": {},
   "outputs": [],
   "source": [
    "#// END_TODO [STEP_11]"
   ]
  },
  {
   "cell_type": "markdown",
   "id": "664427d5",
   "metadata": {},
   "source": [
    "#### Step 12\n",
    "\n",
    "Implement the chosen calibration metric. It should be a Python class with the following method:\n",
    "\n",
    "- `score(self, p, y)`, where\n",
    "    - `p` is a `np.ndarray` of shape $[N,K]$ with the confidence estimates, where $N$ is the number of samples and $K$ is the number of classes,\n",
    "    - `y` is a `np.ndarray` of shape $[N,K]$ with the corresponding true class labels (one-hot encoded)\n",
    "    - It returns a `np.float` number with the calibration error.\n",
    "\n",
    "Instantiate the class (setting any relevant hyper-parameters) and assign it to the variable `multi_metric`.\n",
    "\n",
    "Measure the calibration error of your model on `X_test` and `y_test` and assign the result to the variable `multi_uncalibrated`."
   ]
  },
  {
   "cell_type": "code",
   "execution_count": 64,
   "id": "c7ada9aa",
   "metadata": {},
   "outputs": [],
   "source": [
    "#// BEGIN_TODO [STEP_12] Implement the multi-class calibration metric (5 points)"
   ]
  },
  {
   "cell_type": "code",
   "execution_count": 65,
   "id": "953e1da8",
   "metadata": {},
   "outputs": [],
   "source": [
    "# Class definition\n",
    "class multical_metric:\n",
    "    def __init__(self, nr_bins, binning_scheme='equal_mass', nr_classes=9):\n",
    "        self.nr_bins = nr_bins\n",
    "        self.binning_scheme = binning_scheme\n",
    "        self.nr_classes = nr_classes\n",
    "        self.cal_metric = cal_metric(self.nr_bins, self.binning_scheme)\n",
    "\n",
    "    def score(self, p, y):\n",
    "        sum_ece = 0.0\n",
    "        for i in range(self.nr_classes):\n",
    "            probs = np.array(p[:, i])\n",
    "            targets = np.array(y[:, i])\n",
    "            sum_ece += self.cal_metric.score(probs, targets)\n",
    "        return np.float64(sum_ece / self.nr_classes)"
   ]
  },
  {
   "cell_type": "code",
   "execution_count": 66,
   "id": "a8e203b5",
   "metadata": {},
   "outputs": [],
   "source": [
    "# Class definition\n",
    "class multical_metric_2:\n",
    "    def __init__(self, nr_bins, binning_scheme='equal_mass', nr_classes=9):\n",
    "        self.nr_bins = nr_bins\n",
    "        self.binning_scheme = binning_scheme\n",
    "        self.nr_classes = nr_classes\n",
    "\n",
    "    def score(self, p, y):\n",
    "        # Define bins according to given scheme\n",
    "        if self.binning_scheme == \"equal_width\":\n",
    "            bins = np.linspace(0, 1, self.nr_bins + 1)\n",
    "        elif self.binning_scheme == \"equal_mass\":\n",
    "            bins = np.linspace(0, 1, self.nr_bins + 1)\n",
    "            bins = np.percentile(p, bins*100)\n",
    "        else:\n",
    "            raise 'Binning scheme not supported.'\n",
    "\n",
    "        # Neglect bins 0 and 1\n",
    "        actual_bins = bins[1:-1]\n",
    "\n",
    "        # Create bins for each class such that B_{m,k}\n",
    "        class_bins = np.full((self.nr_classes, len(actual_bins)), actual_bins)\n",
    "\n",
    "        # Initialze ECE per class array\n",
    "        class_ece = np.zeros(self.nr_classes)\n",
    "\n",
    "        # Gather individual class bin statistics\n",
    "        for index, class_bin in enumerate(class_bins):\n",
    "            # Assign probabilities to corresponding bins\n",
    "            class_bin_indexes = np.searchsorted(class_bin, p[:,index])\n",
    "\n",
    "            # Work out bin statistics\n",
    "            class_y_sum = np.bincount(class_bin_indexes, weights=y[:,index], minlength=len(bins))\n",
    "            class_p_sum = np.bincount(class_bin_indexes, weights=p[:,index], minlength=len(bins))\n",
    "            class_total_bin_sum = np.bincount(class_bin_indexes, minlength=len(bins))\n",
    "            class_nonzero_bins = class_total_bin_sum != 0\n",
    "            class_mean_predicted_probability = class_p_sum[class_nonzero_bins] / class_total_bin_sum[class_nonzero_bins]\n",
    "            class_fraction_of_positives = class_y_sum[class_nonzero_bins] / class_total_bin_sum[class_nonzero_bins]\n",
    "\n",
    "            # Calculate ECE for class k\n",
    "            class_ece[index] = \\\n",
    "                np.sum((class_total_bin_sum[class_nonzero_bins] / len(y[:,index]))*abs(class_fraction_of_positives - class_mean_predicted_probability))\n",
    "\n",
    "        sce = np.sum(class_ece) / self.nr_classes\n",
    "\n",
    "        return np.float64(sce)"
   ]
  },
  {
   "cell_type": "code",
   "execution_count": 67,
   "id": "1ae9173d",
   "metadata": {},
   "outputs": [
    {
     "name": "stdout",
     "output_type": "stream",
     "text": [
      "SCE with equal mass binning: 0.07223922886728662\n",
      "SCE with equal mass binning: 0.06924090871048155\n"
     ]
    }
   ],
   "source": [
    "multi_metric = multical_metric(30)\n",
    "sce = multi_metric.score(multi_uncalibrated_p, one_hot_predictions)\n",
    "print(f'SCE with equal mass binning: {sce}')\n",
    "multi_metric = multical_metric_2(30)\n",
    "sce = multi_metric.score(multi_uncalibrated_p, one_hot_predictions)\n",
    "print(f'SCE with equal mass binning: {sce}')\n",
    "multi_uncalibrated = sce\n",
    "#// END_TODO [STEP_12]"
   ]
  },
  {
   "cell_type": "markdown",
   "id": "90fe0c93",
   "metadata": {},
   "source": [
    "#### Step 13\n",
    "\n",
    "Implement at least one calibration method. Each calibration method should be a Python class with the following methods:\n",
    "\n",
    "- `fit(self, p, labels)`: where\n",
    "    - `p` is a `np.ndarray` of shape $[N,K]$ with the confidence estimates, where $N$ is the number of samples and $K$ is the number of classes,\n",
    "    - `y` is a `np.ndarray` of shape $[N,K]$ with the corresponding true class labels (one-hot encoded)\n",
    "    - It fits the calibration model and returns a reference to `self`.\n",
    "\n",
    "- `predict_proba(self, p)`: where\n",
    "    - `p` is a `np.ndarray` of shape $[N,K]$ with the confidence estimates, where $N$ is the number of samples and $K$ is the number of classes,\n",
    "    - It returns an `np.ndarray` of shape $[N,K]$ with the calibrated confidence estimates for each sample in `p`.\n",
    "\n",
    "> **IMPORTANT:** You are not allowed to use the `sklearn.calibration.CalibratedClassifierCV()` method.\n",
    "\n",
    "Instantiate the calibration methods (setting any relevant hyper-parameters) and assign them to a list variable `multi_calibrators`."
   ]
  },
  {
   "cell_type": "code",
   "execution_count": 89,
   "id": "f8a3ff6f",
   "metadata": {},
   "outputs": [],
   "source": [
    "#// BEGIN_TODO [STEP_13] Implement multi-class calibration methods (10 points)\n",
    "\n",
    "class IsotonicCalibrationMulticlass:\n",
    "    def __init__(self, num_classifiers=9):\n",
    "        self.num_classes = num_classifiers\n",
    "        self.calibrators = [cal_model_isotonic() for _ in range(num_classifiers)]\n",
    "\n",
    "    def fit(self, p, y):\n",
    "        # p is the probability of a positive class, per class, generated by the different classifiers\n",
    "        # fit each isotonic regression\n",
    "        for i, calibrator in enumerate(self.calibrators):\n",
    "            calibrator.fit(p[:, i].reshape(-1, 1), y[:, i])\n",
    "        return self\n",
    "    def predict_proba(self, p):\n",
    "        result = np.zeros_like(p)\n",
    "        for i, calibrator in enumerate(self.calibrators):\n",
    "            result[:, i] = calibrator.predict_proba(p[:, i].reshape(-1, 1))\n",
    "        return result\n"
   ]
  },
  {
   "cell_type": "code",
   "execution_count": 90,
   "id": "dda188c6",
   "metadata": {},
   "outputs": [],
   "source": [
    "class multical_model_platt:\n",
    "    def __init__(self):\n",
    "        self.logistic_regression = LogisticRegression()\n",
    "\n",
    "    def fit(self, p, y):\n",
    "        if p.max() == 0 and y.max() == 0:\n",
    "            # Empty samples\n",
    "            return self\n",
    "        else:\n",
    "            self.logistic_regression.fit(p, y)\n",
    "            return self\n",
    "\n",
    "    def predict_proba(self, p):\n",
    "        if p.max() == 0:\n",
    "            return np.zeros((len(p), 2))\n",
    "        else:\n",
    "            calibrated_p = self.logistic_regression.predict_proba(p)\n",
    "            return np.array(calibrated_p)"
   ]
  },
  {
   "cell_type": "code",
   "execution_count": 91,
   "id": "26f77c1b",
   "metadata": {},
   "outputs": [],
   "source": [
    "multi_calibrators = [IsotonicCalibrationMulticlass()]"
   ]
  },
  {
   "cell_type": "code",
   "execution_count": 92,
   "id": "9d8b2a7d",
   "metadata": {},
   "outputs": [],
   "source": [
    "#// END_TODO [STEP_13]"
   ]
  },
  {
   "cell_type": "markdown",
   "id": "49e7474f",
   "metadata": {},
   "source": [
    "#### Step 14\n",
    "\n",
    "Evaluate the performance of your calibration methods. Choose your favorite method and assign its name to a string variable `multiclass_calibrator_choice`. Motivate the choice (including hyper-parameters, if any) in a string variable `multiclass_calibrator_motivation` (max 800 characters).\n",
    "\n",
    "Apply the chosen calibration method to your model on the test data `X_test` and assign the calibrated confidence estimates to `q_multi_test` (an `np.ndarray` of shape $[N,K]$ and `dtype` of `np.float32`).\n",
    "\n",
    "Measure the calibration error of the calibrated model and assign the result to the variable `multi_calibrated`."
   ]
  },
  {
   "cell_type": "code",
   "execution_count": 93,
   "id": "d5dc1206",
   "metadata": {},
   "outputs": [],
   "source": [
    "#// BEGIN_TODO [STEP_14] Choose a multi-class calibration method (5 points)"
   ]
  },
  {
   "cell_type": "code",
   "execution_count": 94,
   "id": "969a435a",
   "metadata": {},
   "outputs": [],
   "source": [
    "multiclass_calibrator_choice = \"Multi-class calibration with Isotonic Regression\"\n",
    "multiclass_calibrator_motivation = \"\"\"\n",
    "Isotonic regression proved very effective in the binary classification. We consider the probability that this will translate into an effective multi-class calibration high. In this implementation we will use 30 bins, because this will keep it consistent with the rest of our findings and is prevents the positive bucket from covering a large space in the calibration curve. The implementation for this calibrator seems relatively straightforward as well.\n",
    "\"\"\""
   ]
  },
  {
   "cell_type": "code",
   "execution_count": 95,
   "id": "68ce7f45",
   "metadata": {},
   "outputs": [
    {
     "name": "stdout",
     "output_type": "stream",
     "text": [
      "(1078, 9)\n",
      "p shape: (1078, 1)\n",
      "y shape: (1078,)\n",
      "p shape: (1078, 1)\n",
      "y shape: (1078,)\n",
      "p shape: (1078, 1)\n",
      "y shape: (1078,)\n",
      "p shape: (1078, 1)\n",
      "y shape: (1078,)\n",
      "p shape: (1078, 1)\n",
      "y shape: (1078,)\n",
      "p shape: (1078, 1)\n",
      "y shape: (1078,)\n",
      "p shape: (1078, 1)\n",
      "y shape: (1078,)\n",
      "p shape: (1078, 1)\n",
      "y shape: (1078,)\n",
      "p shape: (1078, 1)\n",
      "y shape: (1078,)\n",
      "input shape: (1990, 9)\n",
      "pred p shape: (1990,)\n",
      "pred p shape: (1990,)\n",
      "pred p shape: (1990,)\n",
      "pred p shape: (1990,)\n",
      "pred p shape: (1990,)\n",
      "pred p shape: (1990,)\n",
      "pred p shape: (1990,)\n",
      "pred p shape: (1990,)\n",
      "pred p shape: (1990,)\n"
     ]
    }
   ],
   "source": [
    "from sklearn.model_selection import train_test_split\n",
    "y_train_one_hot = np.zeros((y_train.size, 9), dtype=int)\n",
    "for i in range(y_train.size):\n",
    "    y_train_one_hot[i, y_train[i]] = 1\n",
    "x_train_split, x_val_split, y_train_split, y_val_split = train_test_split(x_train, y_train_one_hot, stratify=y_train_one_hot)\n",
    "# Treat the problem as a number of binary classifications\n",
    "# instantiate the classifiers\n",
    "classifiers = [svm.SVC(gamma='auto', class_weight='balanced') for _ in range(9)]\n",
    "calibrator_multi_iso = IsotonicCalibrationMulticlass()\n",
    "\n",
    "# keep track of which models are fitted\n",
    "fitted = np.zeros((9))\n",
    "\n",
    "def fit_multiclass(classifiers, x, y):\n",
    "    for i, clf in enumerate(classifiers):\n",
    "        y_bin = y[:, i]\n",
    "        if np.sum(y_bin) > 0:\n",
    "            # Note! some models won't get fitted and may produce noise\n",
    "            clf.fit(x, y_bin)\n",
    "            fitted[i] = 1\n",
    "\n",
    "def get_multiclass_probabilities(classifiers, x):\n",
    "    \"\"\"Assumes the models are fitted\"\"\"\n",
    "    confidence_estimates = np.zeros((x.shape[0], 9))\n",
    "    for i, clf in enumerate(classifiers):\n",
    "        if fitted[i] > 0:\n",
    "            # Retrieve confidence estimates\n",
    "            decision_values = clf.decision_function(x)\n",
    "            decision_values = np.array(decision_values, dtype=np.float32)\n",
    "            confidence_estimates[:, i] = decision_values\n",
    "    return confidence_estimates\n",
    "\n",
    "fit_multiclass(classifiers, x_train_split, y_train_split)\n",
    "confidence_estimates = get_multiclass_probabilities(classifiers, x_val_split)\n",
    "confidence_estimates = np.apply_along_axis(softmax, 1, confidence_estimates)\n",
    "print(confidence_estimates.shape)\n",
    "\n",
    "# Fit the calibrator\n",
    "calibrator_multi_iso.fit(confidence_estimates, y_val_split)\n",
    "\n",
    "# Refit classifiers with whole set\n",
    "fit_multiclass(classifiers, x_train, y_train_one_hot)\n",
    "\n",
    "# get uncalibrated confidence estmates\n",
    "y_test_one_hot = np.zeros((y_test.size, 9), dtype=int)\n",
    "for i in range(y_test.size):\n",
    "    y_test_one_hot[i, y_test[i]] = 1\n",
    "uncal_conf_est = get_multiclass_probabilities(classifiers, x_test)\n",
    "uncal_conf_est = np.apply_along_axis(softmax, 1, uncal_conf_est)\n",
    "\n",
    "# get calibrated confidence estimates\n",
    "cal_conf_est = calibrator_multi_iso.predict_proba(uncal_conf_est)\n",
    "\n",
    "uncal_predictions = [np.argmax(est) for est in uncal_conf_est]\n",
    "cal_predictions = [np.argmax(est) for est in cal_conf_est]\n",
    "cal_confidence = [np.max(est)/np.sum(est) if np.sum(est) > 0 else 0 for est in cal_conf_est]"
   ]
  },
  {
   "cell_type": "code",
   "execution_count": 75,
   "id": "800303e8",
   "metadata": {},
   "outputs": [
    {
     "name": "stdout",
     "output_type": "stream",
     "text": [
      "Uncalibrated SCE with equal mass binning:   0.12309324166194803\n",
      "Calibrated SCE with equal mass binning:     0.0045940874132661775\n"
     ]
    }
   ],
   "source": [
    "mm = multical_metric(30)\n",
    "uncal_sce = mm.score(uncal_conf_est, y_test_one_hot)\n",
    "cal_sce = mm.score(cal_conf_est, y_test_one_hot)\n",
    "print(f'Uncalibrated SCE with equal mass binning:   {uncal_sce}')\n",
    "print(f'Calibrated SCE with equal mass binning:     {cal_sce}')"
   ]
  },
  {
   "cell_type": "code",
   "execution_count": 76,
   "id": "85fa5830",
   "metadata": {},
   "outputs": [],
   "source": [
    "q_multi_test = cal_conf_est\n",
    "multi_calibrated = cal_sce"
   ]
  },
  {
   "cell_type": "code",
   "execution_count": 77,
   "id": "18915e44",
   "metadata": {},
   "outputs": [],
   "source": [
    "#// END_TODO [STEP_14]"
   ]
  },
  {
   "cell_type": "markdown",
   "id": "94645cf6",
   "metadata": {},
   "source": [
    "#### Step 15\n",
    "\n",
    "A well calibrated classifier can also be used to identify whether a test sample is out-of-distribution, i.e. if it is very different from the data that the classifier was trained on. The `ood.pkl` file contains several out-of-distribution samples."
   ]
  },
  {
   "cell_type": "code",
   "execution_count": 78,
   "id": "fd5a4fc4",
   "metadata": {},
   "outputs": [
    {
     "data": {
      "image/png": "[encoded data removed]",
      "text/plain": [
       "<Figure size 432x288 with 1 Axes>"
      ]
     },
     "metadata": {
      "needs_background": "light"
     },
     "output_type": "display_data"
    }
   ],
   "source": [
    "with open('./data/ood.pkl', 'rb') as f:\n",
    "    X_ood = pickle.load(f)\n",
    "\n",
    "plt.imshow(X_ood[0]);"
   ]
  },
  {
   "cell_type": "markdown",
   "id": "59be6bd7",
   "metadata": {},
   "source": [
    "Evaluate your classifier and calibration method on the data in `X_ood`. Describe your observations in a string variable `observation_ood` (max 1000 characters). Describe one drawback of this approach for identifying out-of-distribution samples in a string variable `drawback_ood` (max 500 characters)."
   ]
  },
  {
   "cell_type": "code",
   "execution_count": 79,
   "id": "707bee0c",
   "metadata": {},
   "outputs": [],
   "source": [
    "#// BEGIN_TODO [STEP_15] (5 points)"
   ]
  },
  {
   "cell_type": "code",
   "execution_count": 80,
   "id": "1daa025c",
   "metadata": {},
   "outputs": [
    {
     "name": "stdout",
     "output_type": "stream",
     "text": [
      "pred p shape: (3,)\n",
      "pred p shape: (3,)\n",
      "pred p shape: (3,)\n",
      "pred p shape: (3,)\n",
      "pred p shape: (3,)\n",
      "pred p shape: (3,)\n",
      "pred p shape: (3,)\n",
      "pred p shape: (3,)\n",
      "pred p shape: (3,)\n",
      "\n",
      "Results for out-of-distribution sample \"1, 2, 3\":\n",
      "- Uncalibrated predicted class:         [6, 6, 6]\n",
      "- Uncalibrated prediction confidence:   [0.4387850421121033, 0.23584822003677192, 0.408379940559056]\n",
      "- Calibrated predicted class:           [6, 6, 6]\n",
      "- Calibrated prediction confidence:     [0.9290672280895138, 0.5667138920705419, 0.9293313816663994]\n"
     ]
    }
   ],
   "source": [
    "feature_vectors_ood = X_ood.reshape((len(X_ood), -1)) # (3, 676)\n",
    "uncal_conf_est = get_multiclass_probabilities(classifiers, feature_vectors_ood)\n",
    "uncal_conf_est = np.apply_along_axis(softmax, 1, uncal_conf_est)\n",
    "\n",
    "# get calibrated confidence estimates\n",
    "cal_conf_est = calibrator_multi_iso.predict_proba(uncal_conf_est)\n",
    "uncal_predictions = [np.argmax(est) for est in uncal_conf_est]\n",
    "uncal_confidence = [np.max(est)/np.sum(est) if np.sum(est) > 0 else 0 for est in uncal_conf_est]\n",
    "cal_predictions = [np.argmax(est) for est in cal_conf_est]\n",
    "cal_confidence = [np.max(est)/np.sum(est) if np.sum(est) > 0 else 0 for est in cal_conf_est]\n",
    "\n",
    "\n",
    "print(f\"\"\"\n",
    "Results for out-of-distribution sample \"1, 2, 3\":\n",
    "- Uncalibrated predicted class:         {uncal_predictions}\n",
    "- Uncalibrated prediction confidence:   {uncal_confidence}\n",
    "- Calibrated predicted class:           {cal_predictions}\n",
    "- Calibrated prediction confidence:     {cal_confidence}\"\"\")\n"
   ]
  },
  {
   "cell_type": "code",
   "execution_count": 81,
   "id": "6f75a55e",
   "metadata": {},
   "outputs": [],
   "source": [
    "observation_ood = \"\"\"\n",
    "The weird thing is that our confidence is very high for the predicted class. In this case, this is because there are multiple classes with erratic behavior, since they have no positive samples to fit on. All other samples show very low confidence for these samples. The low confidence seems to indicate that these samples are indeed not in this distribution. This is one place where it's important to have your probabilities add up to 1, else the confidence calculation might show a higher confidence due to a low sum.\n",
    "\"\"\"\n",
    "drawback_ood = \"\"\"\n",
    "One drawback is that there's no clear line between when a sample is out of distribution and when it's just in between two or more classes. If all classifiers K return a confidence of ~1/K, is that sample then OOD or not?\n",
    "\"\"\""
   ]
  },
  {
   "cell_type": "code",
   "execution_count": 82,
   "id": "9e64c875",
   "metadata": {},
   "outputs": [],
   "source": [
    "#// END_TODO [STEP_15]"
   ]
  },
  {
   "cell_type": "markdown",
   "id": "73c1e555",
   "metadata": {},
   "source": [
    "# Feedback\n",
    "\n",
    "Please fill in this questionaire to help us improve this course for the next year. Your feedback will be anonymized and will not affect your grade in any way!"
   ]
  },
  {
   "cell_type": "markdown",
   "id": "f4323869",
   "metadata": {},
   "source": [
    "### How many hours did you spend on this assignment?\n",
    "\n",
    "Assign a number to variable `feedback_time`."
   ]
  },
  {
   "cell_type": "code",
   "execution_count": 83,
   "id": "7e209271",
   "metadata": {},
   "outputs": [],
   "source": [
    "#// BEGIN_FEEDBACK [Feedback_1] (0 points)\n",
    "feedback_time = 100\n",
    "#// END_FEEDBACK [Feedback_1]\n",
    "\n",
    "import numbers\n",
    "assert isinstance(feedback_time, numbers.Number), \"Please assign a number to variable feedback_time\""
   ]
  },
  {
   "cell_type": "markdown",
   "id": "92df9e1a",
   "metadata": {},
   "source": [
    "### How difficult did you find this assignment?\n",
    "\n",
    "Assign an integer to variable `feedback_difficulty`, on a scale 0 - 10, with 0 being very easy, 5 being just right, and 10 being very difficult."
   ]
  },
  {
   "cell_type": "code",
   "execution_count": 84,
   "id": "c44da128",
   "metadata": {},
   "outputs": [],
   "source": [
    "#// BEGIN_FEEDBACK [Feedback_2] (0 points)\n",
    "feedback_difficulty = 8\n",
    "#// END_FEEDBACK [Feedback_2]\n",
    "\n",
    "assert isinstance(feedback_difficulty, numbers.Number), \"Please assign a number to variable feedback_difficulty\""
   ]
  },
  {
   "cell_type": "markdown",
   "id": "3968bde4",
   "metadata": {},
   "source": [
    "### Which Machine Learning-related courses did you complete (TUE/workshop/online/etc.)?\n",
    "\n",
    "Assign a string to variable `feedback_courses`, listing any ML courses you followed."
   ]
  },
  {
   "cell_type": "code",
   "execution_count": 85,
   "id": "e9b570b9",
   "metadata": {},
   "outputs": [],
   "source": [
    "#// BEGIN_FEEDBACK [Feedback_3] (0 points)\n",
    "feedback_courses = \"2AMM10, 2AMM15\"\n",
    "#// END_FEEDBACK [Feedback_3]\n",
    "\n",
    "assert isinstance(feedback_courses, str), \"Please assign a string to variable feedback_courses\""
   ]
  },
  {
   "cell_type": "markdown",
   "id": "00ca5959",
   "metadata": {},
   "source": [
    "### Would you prefer to earn points for the leaderboard exercise?\n",
    "\n",
    "Currently, the leaderboard exercise is optional: your participation on the leaderboard does not affect your grade, neither does your position on the leaderboard. Would you enjoy a leaderboard exercise, where each group's score is published on the leaderboard and the winning group gets a reward (e.g. they get a 10 for the entire assignment, all other groups are assessed normally on the other exercises)?\n",
    "\n",
    "Assign a number to variable `feedback_leaderboard`:\n",
    "\n",
    "- 1 for \"yes, I would like it\"\n",
    "- 0 for \"I do not have an opinion\"\n",
    "- -1 for \"no, I prefer an optional leaderboard\""
   ]
  },
  {
   "cell_type": "code",
   "execution_count": 86,
   "id": "fc30d31c",
   "metadata": {},
   "outputs": [],
   "source": [
    "#// BEGIN_FEEDBACK [Feedback_4] (0 points)\n",
    "feedback_leaderboard = -1\n",
    "#// END_FEEDBACK [Feedback_4]\n",
    "\n",
    "assert isinstance(feedback_leaderboard, numbers.Number), \"Please assign a number to variable feedback_leaderboard\""
   ]
  },
  {
   "cell_type": "markdown",
   "id": "e3790e84",
   "metadata": {},
   "source": [
    "### (Optional) What did you like?\n",
    "\n",
    "Assign a string to variable `feedback_like`."
   ]
  },
  {
   "cell_type": "code",
   "execution_count": 87,
   "id": "78831b99",
   "metadata": {},
   "outputs": [],
   "source": [
    "#// BEGIN_FEEDBACK [Feedback_5] (0 points)\n",
    "\n",
    "#// END_FEEDBACK [Feedback_5]"
   ]
  },
  {
   "cell_type": "markdown",
   "id": "e0b74a0b",
   "metadata": {},
   "source": [
    "### (Optional) What can be improved?\n",
    "\n",
    "Assign a string to variable `feedback_improve`. Please be specific, so that we can act on your feedback."
   ]
  },
  {
   "cell_type": "code",
   "execution_count": 88,
   "id": "09c79c04",
   "metadata": {},
   "outputs": [],
   "source": [
    "#// BEGIN_FEEDBACK [Feedback_6] (0 points)\n",
    "\n",
    "#// END_FEEDBACK [Feedback_6]"
   ]
  }
 ],
 "metadata": {
  "hide_input": false,
  "kernelspec": {
   "display_name": "Python 3 (ipykernel)",
   "language": "python",
   "name": "python3"
  },
  "language_info": {
   "codemirror_mode": {
    "name": "ipython",
    "version": 3
   },
   "file_extension": ".py",
   "mimetype": "text/x-python",
   "name": "python",
   "nbconvert_exporter": "python",
   "pygments_lexer": "ipython3",
   "version": "3.9.7"
  },
  "toc": {
   "base_numbering": 1,
   "nav_menu": {},
   "number_sections": false,
   "sideBar": true,
   "skip_h1_title": false,
   "title_cell": "Table of Contents",
   "title_sidebar": "Contents",
   "toc_cell": false,
   "toc_position": {},
   "toc_section_display": true,
   "toc_window_display": true
  },
  "varInspector": {
   "cols": {
    "lenName": 16,
    "lenType": 16,
    "lenVar": 40
   },
   "kernels_config": {
    "python": {
     "delete_cmd_postfix": "",
     "delete_cmd_prefix": "del ",
     "library": "var_list.py",
     "varRefreshCmd": "print(var_dic_list())"
    },
    "r": {
     "delete_cmd_postfix": ") ",
     "delete_cmd_prefix": "rm(",
     "library": "var_list.r",
     "varRefreshCmd": "cat(var_dic_list()) "
    }
   },
   "types_to_exclude": [
    "module",
    "function",
    "builtin_function_or_method",
    "instance",
    "_Feature"
   ],
   "window_display": false
  }
 },
 "nbformat": 4,
 "nbformat_minor": 5
}
